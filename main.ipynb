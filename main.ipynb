{
 "cells": [
  {
   "cell_type": "code",
   "execution_count": 2,
   "id": "e426ef45",
   "metadata": {},
   "outputs": [],
   "source": [
    "# # Import standard libraries\n",
    "import os\n",
    "import csv\n",
    "import json\n",
    "import re\n",
    "import random\n",
    "import pandas as pd\n",
    "from datetime import datetime\n",
    "import requests # For making HTTP requests to APIs\n",
    "from dotenv import load_dotenv\n",
    "import torch # PyTorch library, used for working with tensors and training deep learning models\n",
    "import math\n",
    "import matplotlib.pyplot as plt\n",
    "\n",
    "# Import OpenAI API to use OpenAI services\n",
    "import openai\n",
    "from openai import OpenAI\n",
    "\n",
    "# Scikit-learn for splitting data into training and testing sets\n",
    "from sklearn.model_selection import train_test_split\n",
    "\n",
    "# Datasets library for loading datasets and working with Hugging Face's datasets\n",
    "from datasets import load_dataset, Dataset\n",
    "\n",
    "# Hugging Face Transformers library for handling tokenization, models, and training processes\n",
    "from transformers import T5Tokenizer, T5ForConditionalGeneration, Trainer, TrainingArguments, DataCollatorForLanguageModeling, Seq2SeqTrainingArguments, Seq2SeqTrainer, DataCollatorForSeq2Seq\n",
    "\n",
    "\n"
   ]
  },
  {
   "cell_type": "markdown",
   "id": "d57f25bf",
   "metadata": {},
   "source": [
    "# Gather data from Crunchbase Basic API "
   ]
  },
  {
   "cell_type": "code",
   "execution_count": 3,
   "id": "b253d190",
   "metadata": {},
   "outputs": [],
   "source": [
    "#Load crunchbase api\n",
    "load_dotenv()\n",
    "cb_api_key = os.getenv(\"CB_API\")"
   ]
  },
  {
   "cell_type": "code",
   "execution_count": 6,
   "id": "802f552f",
   "metadata": {},
   "outputs": [],
   "source": [
    "# API endpoint for searching organizations in Crunchbase\n",
    "url = 'https://api.crunchbase.com/v4/data/searches/organizations'\n",
    "\n",
    "# Headers including the API key for authentication\n",
    "headers = {\n",
    "    'Content-Type': 'application/json',\n",
    "    'X-CB-USER-KEY': cb_api_key\n",
    "}\n",
    "\n",
    "# Request body defining the fields to retrieve and limiting to 100 result\n",
    "body = {\n",
    "    \"field_ids\": [\n",
    "        \"identifier\", \"name\", \"short_description\", \n",
    "        \"location_identifiers\", \"created_at\", \"facet_ids\"\n",
    "    ],\n",
    "    \"limit\": 1000 # Maximum number allowed by the API\n",
    "}\n",
    "\n",
    "# Make a POST request to the API with the provided body and headers\n",
    "response = requests.post(url, headers=headers, json=body)\n",
    "\n",
    "# Check if the request was successful (status code 200)\n",
    "if response.status_code == 200:\n",
    "    data = response.json()\n",
    "else:\n",
    "    print(f\"Error fetching data: {response.status_code} - {response.text}\")\n"
   ]
  },
  {
   "cell_type": "code",
   "execution_count": 7,
   "id": "f08d9bfb",
   "metadata": {},
   "outputs": [
    {
     "data": {
      "text/html": [
       "<div>\n",
       "<style scoped>\n",
       "    .dataframe tbody tr th:only-of-type {\n",
       "        vertical-align: middle;\n",
       "    }\n",
       "\n",
       "    .dataframe tbody tr th {\n",
       "        vertical-align: top;\n",
       "    }\n",
       "\n",
       "    .dataframe thead th {\n",
       "        text-align: right;\n",
       "    }\n",
       "</style>\n",
       "<table border=\"1\" class=\"dataframe\">\n",
       "  <thead>\n",
       "    <tr style=\"text-align: right;\">\n",
       "      <th></th>\n",
       "      <th>identifier</th>\n",
       "      <th>name</th>\n",
       "      <th>short_description</th>\n",
       "      <th>location</th>\n",
       "      <th>created_year</th>\n",
       "    </tr>\n",
       "  </thead>\n",
       "  <tbody>\n",
       "    <tr>\n",
       "      <th>0</th>\n",
       "      <td></td>\n",
       "      <td>Citi</td>\n",
       "      <td>Citigroup is a financial services holding comp...</td>\n",
       "      <td>New York</td>\n",
       "      <td>2007</td>\n",
       "    </tr>\n",
       "    <tr>\n",
       "      <th>1</th>\n",
       "      <td></td>\n",
       "      <td>UBS</td>\n",
       "      <td>UBS is a global financial services company tha...</td>\n",
       "      <td>Zürich</td>\n",
       "      <td>2009</td>\n",
       "    </tr>\n",
       "    <tr>\n",
       "      <th>2</th>\n",
       "      <td></td>\n",
       "      <td>Amazon</td>\n",
       "      <td>Amazon is a global tech firm with a focus on e...</td>\n",
       "      <td>Seattle</td>\n",
       "      <td>2014</td>\n",
       "    </tr>\n",
       "    <tr>\n",
       "      <th>3</th>\n",
       "      <td></td>\n",
       "      <td>Ola Electric</td>\n",
       "      <td>Ola Electric focuses on developing and manufac...</td>\n",
       "      <td>Bengaluru</td>\n",
       "      <td>2019</td>\n",
       "    </tr>\n",
       "    <tr>\n",
       "      <th>4</th>\n",
       "      <td></td>\n",
       "      <td>Groq</td>\n",
       "      <td>Groq radically simplifies compute to accelerat...</td>\n",
       "      <td>Mountain View</td>\n",
       "      <td>2017</td>\n",
       "    </tr>\n",
       "  </tbody>\n",
       "</table>\n",
       "</div>"
      ],
      "text/plain": [
       "  identifier          name                                  short_description  \\\n",
       "0                     Citi  Citigroup is a financial services holding comp...   \n",
       "1                      UBS  UBS is a global financial services company tha...   \n",
       "2                   Amazon  Amazon is a global tech firm with a focus on e...   \n",
       "3             Ola Electric  Ola Electric focuses on developing and manufac...   \n",
       "4                     Groq  Groq radically simplifies compute to accelerat...   \n",
       "\n",
       "        location  created_year  \n",
       "0       New York          2007  \n",
       "1         Zürich          2009  \n",
       "2        Seattle          2014  \n",
       "3      Bengaluru          2019  \n",
       "4  Mountain View          2017  "
      ]
     },
     "execution_count": 7,
     "metadata": {},
     "output_type": "execute_result"
    }
   ],
   "source": [
    "# Extract relevant information into a list of dictionaries\n",
    "results = []\n",
    "for organization in data.get(\"entities\", []):\n",
    "     # Extract location name (city)\n",
    "        location_data = organization.get(\"properties\", {}).get(\"location_identifiers\", [])\n",
    "        city_name = location_data[0].get(\"value\", \"\") if location_data else \"\"\n",
    "\n",
    " # Extract the year from created_at field\n",
    "        created_at = organization.get(\"properties\", {}).get(\"created_at\", \"\")\n",
    "        created_year = datetime.strptime(created_at, \"%Y-%m-%dT%H:%M:%SZ\").year if created_at else \"\"\n",
    "\n",
    "   # Append extracted data to results\n",
    "        results.append({\n",
    "            \"identifier\": organization.get(\"identifier\", {}).get(\"uuid\", \"\"),\n",
    "            \"name\": organization.get(\"properties\", {}).get(\"name\", \"\"),\n",
    "            \"short_description\": organization.get(\"properties\", {}).get(\"short_description\", \"\"),\n",
    "            \"location\": city_name,  # Only the city name\n",
    "            \"created_year\": created_year  # Extracted year from created_at\n",
    "\n",
    "        })\n",
    "        \n",
    "# Create a DataFrame from the list of dictionaries\n",
    "crunchbase_df = pd.DataFrame(results)\n",
    "\n",
    "# Print the first few rows of the DataFrame to inspect the data\n",
    "crunchbase_df.head()"
   ]
  },
  {
   "cell_type": "code",
   "execution_count": 33,
   "id": "60321e65",
   "metadata": {},
   "outputs": [
    {
     "data": {
      "text/html": [
       "<div>\n",
       "<style scoped>\n",
       "    .dataframe tbody tr th:only-of-type {\n",
       "        vertical-align: middle;\n",
       "    }\n",
       "\n",
       "    .dataframe tbody tr th {\n",
       "        vertical-align: top;\n",
       "    }\n",
       "\n",
       "    .dataframe thead th {\n",
       "        text-align: right;\n",
       "    }\n",
       "</style>\n",
       "<table border=\"1\" class=\"dataframe\">\n",
       "  <thead>\n",
       "    <tr style=\"text-align: right;\">\n",
       "      <th></th>\n",
       "      <th>identifier</th>\n",
       "      <th>name</th>\n",
       "      <th>short_description</th>\n",
       "      <th>location</th>\n",
       "      <th>created_year</th>\n",
       "    </tr>\n",
       "  </thead>\n",
       "  <tbody>\n",
       "    <tr>\n",
       "      <th>328</th>\n",
       "      <td></td>\n",
       "      <td>Headspace</td>\n",
       "      <td>Headspace specializes in providing mental heal...</td>\n",
       "      <td>Santa Monica</td>\n",
       "      <td>2013</td>\n",
       "    </tr>\n",
       "    <tr>\n",
       "      <th>456</th>\n",
       "      <td></td>\n",
       "      <td>Vitable Health</td>\n",
       "      <td>Vitable Health offers primary care and mental ...</td>\n",
       "      <td>Philadelphia</td>\n",
       "      <td>2020</td>\n",
       "    </tr>\n",
       "    <tr>\n",
       "      <th>463</th>\n",
       "      <td></td>\n",
       "      <td>Talkiatry</td>\n",
       "      <td>Talkiatry provides virtual mental healthcare c...</td>\n",
       "      <td>New York</td>\n",
       "      <td>2021</td>\n",
       "    </tr>\n",
       "    <tr>\n",
       "      <th>635</th>\n",
       "      <td></td>\n",
       "      <td>Rula</td>\n",
       "      <td>Rula is a leading company in the behavioral he...</td>\n",
       "      <td>Los Angeles</td>\n",
       "      <td>2019</td>\n",
       "    </tr>\n",
       "    <tr>\n",
       "      <th>689</th>\n",
       "      <td></td>\n",
       "      <td>Clare&amp;me</td>\n",
       "      <td>Clare&amp;me is an AI-powered mental health coach ...</td>\n",
       "      <td>Berlin</td>\n",
       "      <td>2021</td>\n",
       "    </tr>\n",
       "  </tbody>\n",
       "</table>\n",
       "</div>"
      ],
      "text/plain": [
       "    identifier            name  \\\n",
       "328                  Headspace   \n",
       "456             Vitable Health   \n",
       "463                  Talkiatry   \n",
       "635                       Rula   \n",
       "689                   Clare&me   \n",
       "\n",
       "                                     short_description      location  \\\n",
       "328  Headspace specializes in providing mental heal...  Santa Monica   \n",
       "456  Vitable Health offers primary care and mental ...  Philadelphia   \n",
       "463  Talkiatry provides virtual mental healthcare c...      New York   \n",
       "635  Rula is a leading company in the behavioral he...   Los Angeles   \n",
       "689  Clare&me is an AI-powered mental health coach ...        Berlin   \n",
       "\n",
       "     created_year  \n",
       "328          2013  \n",
       "456          2020  \n",
       "463          2021  \n",
       "635          2019  \n",
       "689          2021  "
      ]
     },
     "execution_count": 33,
     "metadata": {},
     "output_type": "execute_result"
    }
   ],
   "source": [
    "# Create new df filtered for \"mental health\" out of curiosity to show skills in data filtering\n",
    "health_df = crunchbase_df[crunchbase_df['short_description'].str.contains(\" mental health\", case=False, na=False)]\n",
    "\n",
    "# Display the filtered DataFrame\n",
    "health_df.head()\n"
   ]
  },
  {
   "cell_type": "code",
   "execution_count": 34,
   "id": "56dc11e3",
   "metadata": {},
   "outputs": [],
   "source": [
    "#save the data to a csv file\n",
    "crunchbase_df.to_csv(\"crunchbase_data.csv\", index=False)\n",
    "csv_file = 'crunchbase_data.csv'"
   ]
  },
  {
   "cell_type": "markdown",
   "id": "38f4238a",
   "metadata": {},
   "source": [
    "# Train Hugging Face Model on Crunchbase Basic API Data \n",
    "Round 1 of Training: here we train the model on the Crunchbase data to help it learn startup knowledge."
   ]
  },
  {
   "cell_type": "code",
   "execution_count": 37,
   "id": "64507fc4",
   "metadata": {},
   "outputs": [
    {
     "name": "stdout",
     "output_type": "stream",
     "text": [
      "Dataset({\n",
      "    features: ['name', 'short_description', 'location', 'created_year'],\n",
      "    num_rows: 1000\n",
      "})\n"
     ]
    },
    {
     "data": {
      "application/vnd.jupyter.widget-view+json": {
       "model_id": "688cacc99e92437ead3e67d251fcdb53",
       "version_major": 2,
       "version_minor": 0
      },
      "text/plain": [
       "Map:   0%|          | 0/1000 [00:00<?, ? examples/s]"
      ]
     },
     "metadata": {},
     "output_type": "display_data"
    }
   ],
   "source": [
    "# Convert the DataFrame to a Hugging Face Dataset\n",
    "dataset = Dataset.from_pandas(crunchbase_df)\n",
    "\n",
    "# Display dataset\n",
    "dataset = dataset.remove_columns(\"identifier\")  # Clean up unnecessary index column\n",
    "print(dataset)\n",
    "\n",
    "# Prepare input-output format for the training\n",
    "def preprocess_function(examples):\n",
    "    inputs = []\n",
    "    targets = []\n",
    "    for i in range(len(examples['name'])):\n",
    "        # Use the name as input\n",
    "        input_text = f\"Company: {examples['name'][i]}\"\n",
    "        \n",
    "        # Combine multiple fields for target\n",
    "        target_text = f\"Location: {examples['location'][i]} | Description: {examples['short_description'][i]} | Year: {examples['created_year'][i]}\"\n",
    "        \n",
    "        inputs.append(input_text)\n",
    "        targets.append(target_text)\n",
    "        \n",
    "    return {'input_text': inputs, 'target_text': targets}\n",
    "\n",
    "# Apply the preprocess function to the dataset \n",
    "dataset = dataset.map(preprocess_function, batched=True)\n",
    "dataset = dataset.train_test_split(test_size=0.2)\n"
   ]
  },
  {
   "cell_type": "code",
   "execution_count": 38,
   "id": "e537c201",
   "metadata": {},
   "outputs": [
    {
     "data": {
      "application/vnd.jupyter.widget-view+json": {
       "model_id": "ad57393b591b4a79b6286c9858cbab34",
       "version_major": 2,
       "version_minor": 0
      },
      "text/plain": [
       "Map:   0%|          | 0/800 [00:00<?, ? examples/s]"
      ]
     },
     "metadata": {},
     "output_type": "display_data"
    },
    {
     "data": {
      "application/vnd.jupyter.widget-view+json": {
       "model_id": "b4ab01bfeed147fa81e78f758639ab94",
       "version_major": 2,
       "version_minor": 0
      },
      "text/plain": [
       "Map:   0%|          | 0/200 [00:00<?, ? examples/s]"
      ]
     },
     "metadata": {},
     "output_type": "display_data"
    }
   ],
   "source": [
    "#Initialize the model and tokenizer\n",
    "model_name = \"t5-small\" #T5 transformer model is great for text-to-text tasks\n",
    "tokenizer = T5Tokenizer.from_pretrained(model_name)\n",
    "model = T5ForConditionalGeneration.from_pretrained(model_name)\n",
    "\n",
    "# Tokenize dataset\n",
    "def tokenize_function(examples):\n",
    "    inputs = tokenizer(examples['input_text'], truncation=True, padding='max_length', max_length=512)\n",
    "    targets = tokenizer(examples['target_text'], truncation=True, padding='max_length', max_length=128)\n",
    "    inputs['labels'] = targets['input_ids']\n",
    "    return inputs\n",
    "\n",
    "tokenized_datasets = dataset.map(tokenize_function, batched=True)\n"
   ]
  },
  {
   "cell_type": "code",
   "execution_count": 42,
   "id": "050cf42e",
   "metadata": {},
   "outputs": [
    {
     "data": {
      "application/vnd.jupyter.widget-view+json": {
       "model_id": "5b2e9b6157834d6d99dba4dbd21d393e",
       "version_major": 2,
       "version_minor": 0
      },
      "text/plain": [
       "  0%|          | 0/150 [00:00<?, ?it/s]"
      ]
     },
     "metadata": {},
     "output_type": "display_data"
    },
    {
     "data": {
      "application/vnd.jupyter.widget-view+json": {
       "model_id": "9d7201ea7c124d27818170cfa1b61a27",
       "version_major": 2,
       "version_minor": 0
      },
      "text/plain": [
       "  0%|          | 0/13 [00:00<?, ?it/s]"
      ]
     },
     "metadata": {},
     "output_type": "display_data"
    },
    {
     "name": "stdout",
     "output_type": "stream",
     "text": [
      "{'eval_loss': 1.6975992918014526, 'eval_runtime': 7.5069, 'eval_samples_per_second': 26.642, 'eval_steps_per_second': 1.732, 'epoch': 1.0}\n"
     ]
    },
    {
     "data": {
      "application/vnd.jupyter.widget-view+json": {
       "model_id": "c265cc8a673e4afa9685214a93427b41",
       "version_major": 2,
       "version_minor": 0
      },
      "text/plain": [
       "  0%|          | 0/13 [00:00<?, ?it/s]"
      ]
     },
     "metadata": {},
     "output_type": "display_data"
    },
    {
     "name": "stdout",
     "output_type": "stream",
     "text": [
      "{'eval_loss': 1.4570027589797974, 'eval_runtime': 14.4039, 'eval_samples_per_second': 13.885, 'eval_steps_per_second': 0.903, 'epoch': 2.0}\n"
     ]
    },
    {
     "data": {
      "application/vnd.jupyter.widget-view+json": {
       "model_id": "f09d31f3a39a465c87881275e4178ea1",
       "version_major": 2,
       "version_minor": 0
      },
      "text/plain": [
       "  0%|          | 0/13 [00:00<?, ?it/s]"
      ]
     },
     "metadata": {},
     "output_type": "display_data"
    },
    {
     "name": "stdout",
     "output_type": "stream",
     "text": [
      "{'eval_loss': 1.379213809967041, 'eval_runtime': 12.4647, 'eval_samples_per_second': 16.045, 'eval_steps_per_second': 1.043, 'epoch': 3.0}\n",
      "{'train_runtime': 973.5532, 'train_samples_per_second': 2.465, 'train_steps_per_second': 0.154, 'train_loss': 3.6434130859375, 'epoch': 3.0}\n"
     ]
    },
    {
     "data": {
      "text/plain": [
       "TrainOutput(global_step=150, training_loss=3.6434130859375, metrics={'train_runtime': 973.5532, 'train_samples_per_second': 2.465, 'train_steps_per_second': 0.154, 'total_flos': 324820323532800.0, 'train_loss': 3.6434130859375, 'epoch': 3.0})"
      ]
     },
     "execution_count": 42,
     "metadata": {},
     "output_type": "execute_result"
    }
   ],
   "source": [
    "# Move model to GPU for faster training\n",
    "device = torch.device(\"cuda\" if torch.cuda.is_available() else \"cpu\")\n",
    "model.to(device)\n",
    "\n",
    "# I selected Seq2SeqTrainingArguments because it is specifically designed for training sequence-to-sequence models like T5\n",
    "# Training arguments\n",
    "training_args = Seq2SeqTrainingArguments(\n",
    "    output_dir=\"./results\",\n",
    "    evaluation_strategy=\"epoch\",\n",
    "    learning_rate=2e-5,\n",
    "    per_device_train_batch_size=16, # 16 was chosen as a moderate batch size\n",
    "    per_device_eval_batch_size=16,\n",
    "    weight_decay=0.01,\n",
    "    save_total_limit=3,\n",
    "    num_train_epochs=3,\n",
    "    predict_with_generate=True,\n",
    ")\n",
    "\n",
    "# Trainer setup\n",
    "trainer = Seq2SeqTrainer(\n",
    "    model=model,\n",
    "    args=training_args,\n",
    "    train_dataset=tokenized_datasets['train'],\n",
    "    eval_dataset=tokenized_datasets['test'],\n",
    "    tokenizer=tokenizer,\n",
    ")\n",
    "\n",
    "# Train the model\n",
    "trainer.train()\n"
   ]
  },
  {
   "cell_type": "code",
   "execution_count": 47,
   "id": "979de9d4",
   "metadata": {},
   "outputs": [
    {
     "data": {
      "application/vnd.jupyter.widget-view+json": {
       "model_id": "33a98a9baf8048b297b8ff7e60746cd4",
       "version_major": 2,
       "version_minor": 0
      },
      "text/plain": [
       "  0%|          | 0/13 [00:00<?, ?it/s]"
      ]
     },
     "metadata": {},
     "output_type": "display_data"
    },
    {
     "data": {
      "text/html": [
       "<div>\n",
       "<style scoped>\n",
       "    .dataframe tbody tr th:only-of-type {\n",
       "        vertical-align: middle;\n",
       "    }\n",
       "\n",
       "    .dataframe tbody tr th {\n",
       "        vertical-align: top;\n",
       "    }\n",
       "\n",
       "    .dataframe thead th {\n",
       "        text-align: right;\n",
       "    }\n",
       "</style>\n",
       "<table border=\"1\" class=\"dataframe\">\n",
       "  <thead>\n",
       "    <tr style=\"text-align: right;\">\n",
       "      <th></th>\n",
       "      <th>Value</th>\n",
       "    </tr>\n",
       "    <tr>\n",
       "      <th>Metric</th>\n",
       "      <th></th>\n",
       "    </tr>\n",
       "  </thead>\n",
       "  <tbody>\n",
       "    <tr>\n",
       "      <th>Eval loss</th>\n",
       "      <td>1.3792</td>\n",
       "    </tr>\n",
       "    <tr>\n",
       "      <th>Eval runtime</th>\n",
       "      <td>7.6481</td>\n",
       "    </tr>\n",
       "    <tr>\n",
       "      <th>Eval samples per second</th>\n",
       "      <td>26.1500</td>\n",
       "    </tr>\n",
       "    <tr>\n",
       "      <th>Eval steps per second</th>\n",
       "      <td>1.7000</td>\n",
       "    </tr>\n",
       "    <tr>\n",
       "      <th>Epoch</th>\n",
       "      <td>3.0000</td>\n",
       "    </tr>\n",
       "    <tr>\n",
       "      <th>Perplexity</th>\n",
       "      <td>3.9718</td>\n",
       "    </tr>\n",
       "  </tbody>\n",
       "</table>\n",
       "</div>"
      ],
      "text/plain": [
       "                           Value\n",
       "Metric                          \n",
       "Eval loss                 1.3792\n",
       "Eval runtime              7.6481\n",
       "Eval samples per second  26.1500\n",
       "Eval steps per second     1.7000\n",
       "Epoch                     3.0000\n",
       "Perplexity                3.9718"
      ]
     },
     "execution_count": 47,
     "metadata": {},
     "output_type": "execute_result"
    }
   ],
   "source": [
    "# Evaluate the model on the test dataset\n",
    "results = trainer.evaluate()\n",
    "\n",
    "# Calculate the perplexity score from the evaluation results\n",
    "if \"eval_loss\" in results:\n",
    "    perplexity = math.exp(results[\"eval_loss\"])\n",
    "    results[\"perplexity\"] = perplexity\n",
    "\n",
    "\n",
    "# Convert the results into a list of dictionaries for the DataFrame\n",
    "evaluation_results = [{\"Metric\": key.replace('_', ' ').capitalize(), \"Value\": round(value, 4)} for key, value in results.items()]\n",
    "\n",
    "# Create a DataFrame from the list of dictionaries\n",
    "df_results = pd.DataFrame(evaluation_results)\n",
    "\n",
    "# Set the index for better readability\n",
    "df_results.set_index(\"Metric\", inplace=True)\n",
    "\n",
    "# Display the DataFrame with perplexity\n",
    "df_results"
   ]
  },
  {
   "cell_type": "code",
   "execution_count": 118,
   "id": "77321c68",
   "metadata": {},
   "outputs": [
    {
     "data": {
      "text/plain": [
       "[{'Metric': 'Training Loss CB data Trained T5', 'Value': 1.3792},\n",
       " {'Metric': 'Perplexity CB data Trained T5', 'Value': 3.9718}]"
      ]
     },
     "execution_count": 118,
     "metadata": {},
     "output_type": "execute_result"
    }
   ],
   "source": [
    "# Save the results to a list to compare all results \n",
    "results_list_all = [evaluation_results[0], evaluation_results[5]]\n",
    "\n",
    "# change name of the metrics to say HuggingFace \n",
    "results_list_all[0]['Metric'] = 'Training Loss CB data Trained T5'\n",
    "results_list_all[1]['Metric'] = 'Perplexity CB data Trained T5'\n",
    "\n",
    "results_list_all"
   ]
  },
  {
   "cell_type": "code",
   "execution_count": 49,
   "id": "a453b975",
   "metadata": {},
   "outputs": [
    {
     "data": {
      "text/plain": [
       "('crunchbase_trained_model/tokenizer_config.json',\n",
       " 'crunchbase_trained_model/special_tokens_map.json',\n",
       " 'crunchbase_trained_model/spiece.model',\n",
       " 'crunchbase_trained_model/added_tokens.json')"
      ]
     },
     "execution_count": 49,
     "metadata": {},
     "output_type": "execute_result"
    }
   ],
   "source": [
    "# Save the trained model and tokenizer\n",
    "trainer.save_model(\"crunchbase_trained_model\")\n",
    "tokenizer.save_pretrained(\"crunchbase_trained_model\")"
   ]
  },
  {
   "cell_type": "markdown",
   "id": "374c9b5c",
   "metadata": {},
   "source": [
    "# Prompt Engineering"
   ]
  },
  {
   "cell_type": "markdown",
   "id": "9d2b30ab",
   "metadata": {},
   "source": [
    "To fine tune the T5 model created, we used the crunchbase data to generate pairs of prompts and completions and then export these pairs as JSON lines into an output file. We will also fine tune a Chat GPT model with these prompts. "
   ]
  },
  {
   "cell_type": "code",
   "execution_count": 8,
   "id": "adc9f8f6",
   "metadata": {},
   "outputs": [
    {
     "name": "stdout",
     "output_type": "stream",
     "text": [
      "Generated 2000 prompt-completion pairs and exported to output_prompts_completions.jsonl\n"
     ]
    }
   ],
   "source": [
    "#function to replace newlines with spaces and remove any leading/trailing whitespace\n",
    "def replace_newlines_with_spaces(text):\n",
    "    return text.replace(\"\\n\", \" \").strip()\n",
    "\n",
    "# Function to generate prompt-completion pairs based on Crunchbase data\n",
    "def generate_prompt_completion_pairs(input_csv_file, output_jsonl_file):\n",
    "    prompt_completion_pairs = []\n",
    "\n",
    "    with open(input_csv_file, 'r') as csv_file:\n",
    "        csv_reader = csv.DictReader(csv_file)\n",
    "        for row in csv_reader:\n",
    "            # First prompt-completion pair: Generate a prompt asking for a summary of the startup\n",
    "            prompt = f\"\"\"\n",
    "                Please provide a summary of the startup {row['name']}.\n",
    "            \"\"\"\n",
    "            # Generate a completion based on startup details such as founded year, location, and short description\n",
    "            completion = (\n",
    "                f\"{row['name']} was founded in {row['created_year']} and is based in {row['location']}. \"\n",
    "                f\"It focuses on {row['short_description']}.\"\n",
    "            )\n",
    "\n",
    "            # Clean up the prompt and completion \n",
    "            prompt = replace_newlines_with_spaces(prompt)\n",
    "            completion = replace_newlines_with_spaces(completion)\n",
    "\n",
    "            # Append the formatted prompt-completion pair to the list using OpenAI fine-tuning format\n",
    "            prompt_completion_pairs.append({\n",
    "                \"messages\": [\n",
    "                    {\"role\": \"user\", \"content\": prompt},\n",
    "                    {\"role\": \"assistant\", \"content\": completion}\n",
    "                ]\n",
    "            })\n",
    "\n",
    "            # Additional prompt-completion pair examples: Asking specific details about the startup's founding year and location\n",
    "            prompt = f\"What year was {row['name']} founded, and where is it located?\"\n",
    "            completion = f\"{row['name']} was founded in {row['created_year']} and is located in {row['location']}.\"\n",
    "\n",
    "            # Clean up the prompt and completion\n",
    "            prompt = replace_newlines_with_spaces(prompt)\n",
    "            completion = replace_newlines_with_spaces(completion)\n",
    "\n",
    "            # Append this second prompt-completion pair to the list\n",
    "            prompt_completion_pairs.append({\n",
    "                \"messages\": [\n",
    "                    {\"role\": \"user\", \"content\": prompt},\n",
    "                    {\"role\": \"assistant\", \"content\": completion}\n",
    "                ]\n",
    "            })\n",
    "\n",
    "    # Export the pairs to a JSONL file (each pair is written as a separate line)\n",
    "    with open(output_jsonl_file, 'w') as jsonl_file:\n",
    "        for pair in prompt_completion_pairs:\n",
    "            json.dump(pair, jsonl_file)\n",
    "            jsonl_file.write('\\n')\n",
    "\n",
    "    # Print a message indicating how many pairs were generated and the location of the output file\n",
    "    print(f\"Generated {len(prompt_completion_pairs)} prompt-completion pairs and exported to {output_jsonl_file}\")\n",
    "\n",
    "# usage of the function: generate prompt-completion pairs from 'crunchbase_data.csv' and save to 'output_prompts_completions.jsonl'\n",
    "generate_prompt_completion_pairs('crunchbase_data.csv', 'output_prompts_completions.jsonl')"
   ]
  },
  {
   "cell_type": "markdown",
   "id": "3e1c18c1",
   "metadata": {},
   "source": [
    "## Train Test Split Prompt Completion Startup Data "
   ]
  },
  {
   "cell_type": "code",
   "execution_count": 51,
   "id": "324a4bb2",
   "metadata": {},
   "outputs": [],
   "source": [
    "#Load prompt-completion pairs from the JSONL file\n",
    "def load_data(jsonl_file):\n",
    "    data = []\n",
    "    # Open the JSONL file for reading\n",
    "    with open(jsonl_file, 'r') as f:\n",
    "        # Loop through each line in the file\n",
    "        for line in f:\n",
    "            # Parse each line as a JSON object and append it to the data list\n",
    "            data.append(json.loads(line))\n",
    "    return data\n",
    "\n",
    "data = load_data('output_prompts_completions.jsonl')\n",
    "\n",
    "# Prepare Data for Training and Testing\n",
    "def prepare_data(data):\n",
    "    # Shuffle data to randomize the order\n",
    "    random.shuffle(data)\n",
    "    \n",
    "    # Split data into 80% training, 20% testing\n",
    "    train_size = int(0.8 * len(data))\n",
    "    train_data = data[:train_size]\n",
    "    test_data = data[train_size:]\n",
    "    \n",
    "    return train_data, test_data\n",
    "\n",
    "# train and test data format for openai fine-tuning\n",
    "train_data, test_data = prepare_data(data)"
   ]
  },
  {
   "cell_type": "markdown",
   "id": "c423afcc",
   "metadata": {},
   "source": [
    "# Fine Tuning Using HuggingFace Transformers \n",
    "\n",
    "Round 2 of Training: We are fine-tuning the T5 Model we just trained on the crunchbase data. Here I used the prompt-completion dataset to fine-tune the model to help the model's language generation abilities, making it more conversational and better at generating relevant completions."
   ]
  },
  {
   "cell_type": "code",
   "execution_count": 55,
   "id": "6287f5ce",
   "metadata": {},
   "outputs": [],
   "source": [
    "# Convert to HuggingFace dataset format\n",
    "def convert_to_dataset(data):\n",
    "    prompts = []\n",
    "    completions = []\n",
    "    for pair in data:\n",
    "        prompt = pair['messages'][0]['content']\n",
    "        completion = pair['messages'][1]['content']\n",
    "        prompts.append(prompt)\n",
    "        completions.append(completion)\n",
    "    \n",
    "    dataset = Dataset.from_dict({\"prompt\": prompts, \"completion\": completions})\n",
    "    return dataset\n",
    "\n",
    "train_dataset = convert_to_dataset(train_data)\n",
    "test_dataset = convert_to_dataset(test_data)"
   ]
  },
  {
   "cell_type": "code",
   "execution_count": 56,
   "id": "6433727f",
   "metadata": {},
   "outputs": [
    {
     "data": {
      "application/vnd.jupyter.widget-view+json": {
       "model_id": "9fdfec18c2384ae08c58ace842630b30",
       "version_major": 2,
       "version_minor": 0
      },
      "text/plain": [
       "Map:   0%|          | 0/1600 [00:00<?, ? examples/s]"
      ]
     },
     "metadata": {},
     "output_type": "display_data"
    },
    {
     "data": {
      "application/vnd.jupyter.widget-view+json": {
       "model_id": "df22e01f5dd0448bb863ecfb27f3d0d0",
       "version_major": 2,
       "version_minor": 0
      },
      "text/plain": [
       "Map:   0%|          | 0/400 [00:00<?, ? examples/s]"
      ]
     },
     "metadata": {},
     "output_type": "display_data"
    },
    {
     "data": {
      "application/vnd.jupyter.widget-view+json": {
       "model_id": "508aa500ce034ba0b4f8e8404c908e24",
       "version_major": 2,
       "version_minor": 0
      },
      "text/plain": [
       "  0%|          | 0/600 [00:00<?, ?it/s]"
      ]
     },
     "metadata": {},
     "output_type": "display_data"
    },
    {
     "data": {
      "application/vnd.jupyter.widget-view+json": {
       "model_id": "b2d3d80558114de5a99eb98a16ac2589",
       "version_major": 2,
       "version_minor": 0
      },
      "text/plain": [
       "  0%|          | 0/50 [00:00<?, ?it/s]"
      ]
     },
     "metadata": {},
     "output_type": "display_data"
    },
    {
     "name": "stdout",
     "output_type": "stream",
     "text": [
      "{'eval_loss': 0.7456273436546326, 'eval_runtime': 1.9927, 'eval_samples_per_second': 200.729, 'eval_steps_per_second': 25.091, 'epoch': 1.0}\n"
     ]
    },
    {
     "data": {
      "application/vnd.jupyter.widget-view+json": {
       "model_id": "c2b6ba71003a4b28a8b5081254bcc9b8",
       "version_major": 2,
       "version_minor": 0
      },
      "text/plain": [
       "  0%|          | 0/50 [00:00<?, ?it/s]"
      ]
     },
     "metadata": {},
     "output_type": "display_data"
    },
    {
     "name": "stdout",
     "output_type": "stream",
     "text": [
      "{'eval_loss': 0.7241692543029785, 'eval_runtime': 1.3425, 'eval_samples_per_second': 297.946, 'eval_steps_per_second': 37.243, 'epoch': 2.0}\n",
      "{'loss': 0.9368, 'grad_norm': 0.7895172238349915, 'learning_rate': 8.333333333333334e-06, 'epoch': 2.5}\n"
     ]
    },
    {
     "data": {
      "application/vnd.jupyter.widget-view+json": {
       "model_id": "ed0ae8fe9fd040ae822ab7ab64f679f8",
       "version_major": 2,
       "version_minor": 0
      },
      "text/plain": [
       "  0%|          | 0/50 [00:00<?, ?it/s]"
      ]
     },
     "metadata": {},
     "output_type": "display_data"
    },
    {
     "name": "stdout",
     "output_type": "stream",
     "text": [
      "{'eval_loss': 0.72039395570755, 'eval_runtime': 1.6214, 'eval_samples_per_second': 246.694, 'eval_steps_per_second': 30.837, 'epoch': 3.0}\n",
      "{'train_runtime': 92.2244, 'train_samples_per_second': 52.047, 'train_steps_per_second': 6.506, 'train_loss': 0.89914431254069, 'epoch': 3.0}\n"
     ]
    },
    {
     "data": {
      "text/plain": [
       "TrainOutput(global_step=600, training_loss=0.89914431254069, metrics={'train_runtime': 92.2244, 'train_samples_per_second': 52.047, 'train_steps_per_second': 6.506, 'total_flos': 32943040364544.0, 'train_loss': 0.89914431254069, 'epoch': 3.0})"
      ]
     },
     "execution_count": 56,
     "metadata": {},
     "output_type": "execute_result"
    }
   ],
   "source": [
    "# Load the pre-trained on crunchbase data T5 model and tokenizer\n",
    "model_name = \"/Users/priscillamorales/Desktop/CodeSpace/Personal_Projects/Crunchbase_Project/crunchbase_trained_model\" \n",
    "tokenizer = T5Tokenizer.from_pretrained(model_name)\n",
    "model = T5ForConditionalGeneration.from_pretrained(model_name)\n",
    "\n",
    "# Tokenize the data for prompt-completion fine-tuning\n",
    "def tokenize_function(examples):\n",
    "    inputs = tokenizer(examples[\"prompt\"], padding=\"longest\", truncation=True)\n",
    "    targets = tokenizer(examples[\"completion\"], padding=\"longest\", truncation=True)\n",
    "    \n",
    "    # Adjust the inputs to include the labels (target token IDs) for the decoder\n",
    "    # These labels will be used by the model for generating output during training\n",
    "    inputs[\"labels\"] = targets[\"input_ids\"]\n",
    "    return inputs\n",
    "\n",
    "# Apply the tokenization function to the training and testing dataset to convert the \"prompt\" and \"completion\" fields into tokenized format\n",
    "train_dataset = train_dataset.map(tokenize_function, batched=True, remove_columns=[\"prompt\", \"completion\"])\n",
    "test_dataset = test_dataset.map(tokenize_function, batched=True, remove_columns=[\"prompt\", \"completion\"])\n",
    "\n",
    "# Set up Training Arguments, 3 epochs were selected to balance sufficient training time without overfitting. \n",
    "training_args = Seq2SeqTrainingArguments(\n",
    "    output_dir=\"./results\",\n",
    "    evaluation_strategy=\"epoch\",\n",
    "    per_device_train_batch_size=8, \n",
    "    per_device_eval_batch_size=8, #Fine-tuning requires more precision, hence a smaller batch size of 8 was chosen\n",
    "    num_train_epochs=3,\n",
    "    save_steps=500,\n",
    "    save_total_limit=2,\n",
    "    logging_dir='./logs',\n",
    "    predict_with_generate=True,  # Important for text generation\n",
    ")\n",
    "\n",
    "# Data Collator for Seq2Seq Tasks\n",
    "data_collator = DataCollatorForSeq2Seq(tokenizer, model=model)\n",
    "\n",
    "# Trainer Setup\n",
    "trainer = Seq2SeqTrainer(\n",
    "    model=model,\n",
    "    args=training_args,\n",
    "    train_dataset=train_dataset,\n",
    "    eval_dataset=test_dataset,\n",
    "    data_collator=data_collator,\n",
    ")\n",
    "\n",
    "# Train the Model\n",
    "trainer.train()"
   ]
  },
  {
   "cell_type": "code",
   "execution_count": 59,
   "id": "675b230e",
   "metadata": {},
   "outputs": [
    {
     "data": {
      "application/vnd.jupyter.widget-view+json": {
       "model_id": "00963e9d5ff54c09be638d4a614600cd",
       "version_major": 2,
       "version_minor": 0
      },
      "text/plain": [
       "  0%|          | 0/50 [00:00<?, ?it/s]"
      ]
     },
     "metadata": {},
     "output_type": "display_data"
    },
    {
     "data": {
      "text/html": [
       "<div>\n",
       "<style scoped>\n",
       "    .dataframe tbody tr th:only-of-type {\n",
       "        vertical-align: middle;\n",
       "    }\n",
       "\n",
       "    .dataframe tbody tr th {\n",
       "        vertical-align: top;\n",
       "    }\n",
       "\n",
       "    .dataframe thead th {\n",
       "        text-align: right;\n",
       "    }\n",
       "</style>\n",
       "<table border=\"1\" class=\"dataframe\">\n",
       "  <thead>\n",
       "    <tr style=\"text-align: right;\">\n",
       "      <th></th>\n",
       "      <th>Value</th>\n",
       "    </tr>\n",
       "    <tr>\n",
       "      <th>Metric</th>\n",
       "      <th></th>\n",
       "    </tr>\n",
       "  </thead>\n",
       "  <tbody>\n",
       "    <tr>\n",
       "      <th>Eval loss</th>\n",
       "      <td>0.7204</td>\n",
       "    </tr>\n",
       "    <tr>\n",
       "      <th>Eval runtime</th>\n",
       "      <td>2.7632</td>\n",
       "    </tr>\n",
       "    <tr>\n",
       "      <th>Eval samples per second</th>\n",
       "      <td>144.7610</td>\n",
       "    </tr>\n",
       "    <tr>\n",
       "      <th>Eval steps per second</th>\n",
       "      <td>18.0950</td>\n",
       "    </tr>\n",
       "    <tr>\n",
       "      <th>Epoch</th>\n",
       "      <td>3.0000</td>\n",
       "    </tr>\n",
       "    <tr>\n",
       "      <th>Perplexity</th>\n",
       "      <td>2.0552</td>\n",
       "    </tr>\n",
       "  </tbody>\n",
       "</table>\n",
       "</div>"
      ],
      "text/plain": [
       "                            Value\n",
       "Metric                           \n",
       "Eval loss                  0.7204\n",
       "Eval runtime               2.7632\n",
       "Eval samples per second  144.7610\n",
       "Eval steps per second     18.0950\n",
       "Epoch                      3.0000\n",
       "Perplexity                 2.0552"
      ]
     },
     "execution_count": 59,
     "metadata": {},
     "output_type": "execute_result"
    }
   ],
   "source": [
    "# Step 6: Evaluate the Model\n",
    "results = trainer.evaluate()\n",
    "\n",
    "# Calculate perplexity from the evaluation loss\n",
    "if \"eval_loss\" in results:\n",
    "    perplexity = math.exp(results[\"eval_loss\"])\n",
    "    results[\"perplexity\"] = perplexity\n",
    "\n",
    "# Convert the results into a list of dictionaries for the DataFrame\n",
    "results_list = [{\"Metric\": key.replace('_', ' ').capitalize(), \"Value\": round(value, 4)} for key, value in results.items()]\n",
    "\n",
    "# Create a DataFrame from the list of dictionaries\n",
    "df_results = pd.DataFrame(results_list)\n",
    "\n",
    "# Set the index for better readability\n",
    "df_results.set_index(\"Metric\", inplace=True)\n",
    "\n",
    "# Display the DataFrame with perplexity\n",
    "df_results"
   ]
  },
  {
   "cell_type": "code",
   "execution_count": 119,
   "id": "7a4c0949",
   "metadata": {},
   "outputs": [
    {
     "data": {
      "text/plain": [
       "[{'Metric': 'Training Loss CB data Trained T5', 'Value': 1.3792},\n",
       " {'Metric': 'Perplexity CB data Trained T5', 'Value': 3.9718},\n",
       " {'Metric': 'Training Loss CB Fine-Tuned T5', 'Value': 0.7204},\n",
       " {'Metric': 'Perplexity CB Fine-Tuned T5', 'Value': 2.0552}]"
      ]
     },
     "execution_count": 119,
     "metadata": {},
     "output_type": "execute_result"
    }
   ],
   "source": [
    "# Append new metrics to results_list_all\n",
    "results_list_all.append(results_list[0])\n",
    "results_list_all.append(results_list[5])\n",
    "\n",
    "# change name of the metrics \n",
    "results_list_all[2]['Metric'] = 'Training Loss CB Fine-Tuned T5'\n",
    "results_list_all[3]['Metric'] = 'Perplexity CB Fine-Tuned T5'\n",
    "\n",
    "results_list_all"
   ]
  },
  {
   "cell_type": "code",
   "execution_count": 68,
   "id": "49b03326",
   "metadata": {},
   "outputs": [
    {
     "data": {
      "text/plain": [
       "('fine_tuned_prompt_completion_model/tokenizer_config.json',\n",
       " 'fine_tuned_prompt_completion_model/special_tokens_map.json',\n",
       " 'fine_tuned_prompt_completion_model/spiece.model',\n",
       " 'fine_tuned_prompt_completion_model/added_tokens.json')"
      ]
     },
     "execution_count": 68,
     "metadata": {},
     "output_type": "execute_result"
    }
   ],
   "source": [
    "trainer.save_model(\"fine_tuned_prompt_completion_model\")\n",
    "tokenizer.save_pretrained(\"fine_tuned_prompt_completion_model\")"
   ]
  },
  {
   "cell_type": "markdown",
   "id": "70f0dba2",
   "metadata": {},
   "source": [
    "## Gradio App to interact with Model"
   ]
  },
  {
   "cell_type": "code",
   "execution_count": 86,
   "id": "99a83cd4",
   "metadata": {},
   "outputs": [],
   "source": [
    "# Import Gradio\n",
    "import gradio as gr\n",
    "from transformers import pipeline"
   ]
  },
  {
   "cell_type": "code",
   "execution_count": 90,
   "id": "a6f92db1",
   "metadata": {},
   "outputs": [
    {
     "name": "stderr",
     "output_type": "stream",
     "text": [
      "Hardware accelerator e.g. GPU is available in the environment, but no `device` argument is passed to the `Pipeline` object. Model will be on CPU.\n"
     ]
    }
   ],
   "source": [
    "model = \"path\"\n",
    "\n",
    "# Initialize the pipeline to generate\n",
    "model_pipeline = pipeline(\"text2text-generation\", model=model)"
   ]
  },
  {
   "cell_type": "code",
   "execution_count": 91,
   "id": "4b70ede8",
   "metadata": {},
   "outputs": [],
   "source": [
    "def predict(input_text):\n",
    "    # Use pipeline to generate a response\n",
    "    output = model_pipeline(input_text, max_length=100, num_beams=5, early_stopping=True)\n",
    "    return output[0]['generated_text']"
   ]
  },
  {
   "cell_type": "code",
   "execution_count": 92,
   "id": "7909ac0f",
   "metadata": {},
   "outputs": [
    {
     "name": "stdout",
     "output_type": "stream",
     "text": [
      "Running on local URL:  http://127.0.0.1:7868\n",
      "\n",
      "To create a public link, set `share=True` in `launch()`.\n"
     ]
    },
    {
     "data": {
      "text/html": [
       "<div><iframe src=\"http://127.0.0.1:7868/\" width=\"100%\" height=\"500\" allow=\"autoplay; camera; microphone; clipboard-read; clipboard-write;\" frameborder=\"0\" allowfullscreen></iframe></div>"
      ],
      "text/plain": [
       "<IPython.core.display.HTML object>"
      ]
     },
     "metadata": {},
     "output_type": "display_data"
    },
    {
     "data": {
      "text/plain": []
     },
     "execution_count": 92,
     "metadata": {},
     "output_type": "execute_result"
    }
   ],
   "source": [
    "# Create Gradio interface\n",
    "interface = gr.Interface(fn=predict, inputs=\"text\", outputs=\"text\", title=\"Interact with Fine-tuned T5 Model\")\n",
    "\n",
    "# Launch the app.\n",
    "interface.launch(show_error=True)"
   ]
  },
  {
   "cell_type": "markdown",
   "id": "2904a821",
   "metadata": {},
   "source": [
    "**Testing the Gradio interaction with model results**: The model is running well, however, input must be similar or exactly match prompt question it was trained on. If prompt varies in language used, the output wasn't as expected. "
   ]
  },
  {
   "cell_type": "markdown",
   "id": "707e03e8",
   "metadata": {},
   "source": [
    "# Fine Tuning From Open AI Assistants API"
   ]
  },
  {
   "cell_type": "code",
   "execution_count": null,
   "id": "db64cc8d",
   "metadata": {},
   "outputs": [],
   "source": [
    "# Load API keys from .env file\n",
    "load_dotenv()\n",
    "open_ai_key = os.getenv(\"OPENAI_API_KEY\")\n",
    "client = OpenAI()\n",
    "\n",
    "# Select GPT model \n",
    "GPT_MODEL = \"gpt-3.5-turbo\""
   ]
  },
  {
   "cell_type": "code",
   "execution_count": 70,
   "id": "6038d5b6",
   "metadata": {},
   "outputs": [
    {
     "name": "stdout",
     "output_type": "stream",
     "text": [
      "Conversion to JSONL format complete!\n"
     ]
    }
   ],
   "source": [
    "# Function to convert dataset to JSONL format for OpenAI fine-tuning\n",
    "def convert_to_jsonl(data, output_file):\n",
    "    with open(output_file, 'w') as jsonl_file:\n",
    "        for data_point in data:\n",
    "            # Write each data point to a JSONL file\n",
    "            json.dump(data_point, jsonl_file)\n",
    "            jsonl_file.write('\\n')\n",
    "\n",
    "# Convert train data to JSONL\n",
    "convert_to_jsonl(train_data, 'train_dataset_openai.jsonl')\n",
    "\n",
    "# Convert test data to JSONL\n",
    "convert_to_jsonl(test_data, 'test_dataset_openai.jsonl')\n",
    "\n",
    "print(\"Conversion to JSONL format complete!\")"
   ]
  },
  {
   "cell_type": "code",
   "execution_count": 82,
   "id": "8d5740da",
   "metadata": {},
   "outputs": [
    {
     "data": {
      "text/plain": [
       "FileObject(id='file-8tgZuKIWvuea3SEYLCppQxxB', bytes=414187, created_at=1723994904, filename='train_dataset_openai.jsonl', object='file', purpose='fine-tune', status='processed', status_details=None)"
      ]
     },
     "execution_count": 82,
     "metadata": {},
     "output_type": "execute_result"
    }
   ],
   "source": [
    "#Upload training data to OpenAI\n",
    "file_train = client.files.create(\n",
    "  file = open('train_dataset_openai.jsonl', \"rb\"),\n",
    "  purpose = 'fine-tune'\n",
    ")\n",
    "\n",
    "file_train\n",
    "\n",
    "#Save train file_id to variable\n",
    "train_file_id = file_train.id"
   ]
  },
  {
   "cell_type": "code",
   "execution_count": 84,
   "id": "8f397675",
   "metadata": {},
   "outputs": [
    {
     "data": {
      "text/plain": [
       "FileObject(id='file-9S9Re5NPdF3zNn73GSBzCLNk', bytes=105008, created_at=1723994910, filename='test_dataset_openai.jsonl', object='file', purpose='fine-tune', status='processed', status_details=None)"
      ]
     },
     "execution_count": 84,
     "metadata": {},
     "output_type": "execute_result"
    }
   ],
   "source": [
    "#Upload testing data to OpenAI\n",
    "file_test = client.files.create(\n",
    "  file=open('test_dataset_openai.jsonl', \"rb\"),\n",
    "  purpose='fine-tune'\n",
    ")\n",
    "\n",
    "file_test\n",
    "\n",
    "#Save test file_id to variable\n",
    "file_test_id = file_test.id"
   ]
  },
  {
   "cell_type": "code",
   "execution_count": null,
   "id": "80fa4006",
   "metadata": {},
   "outputs": [],
   "source": [
    "#Create fine-tuning job in OpenAI\n",
    "fine_tuning_job = client.fine_tuning.jobs.create(\n",
    "    model = \"gpt-3.5-turbo\", \n",
    "    training_file = train_file_id,\n",
    "    validation_file = file_test_id,\n",
    "    suffix = \"crunchbase data\"\n",
    ")\n",
    "fine_tuning_job"
   ]
  },
  {
   "cell_type": "code",
   "execution_count": 95,
   "id": "52bb0659",
   "metadata": {},
   "outputs": [
    {
     "name": "stderr",
     "output_type": "stream",
     "text": [
      "python(11798) MallocStackLogging: can't turn off malloc stack logging because it was not enabled.\n"
     ]
    },
    {
     "name": "stdout",
     "output_type": "stream",
     "text": [
      "The job has successfully completed\n",
      "New fine-tuned model created: ft:gpt-3.5-turbo-0125:personal:crunchbase-data:9xczAAsN\n",
      "Checkpoint created at step 1599 with Snapshot ID: ft:gpt-3.5-turbo-0125:personal:crunchbase-data:9xczAZr4:ckpt-step-1599\n",
      "Checkpoint created at step 1066 with Snapshot ID: ft:gpt-3.5-turbo-0125:personal:crunchbase-data:9xczAdot:ckpt-step-1066\n",
      "Step 1600/1600: training loss=0.68, validation loss=0.79\n",
      "Step 1599/1600: training loss=0.49, full validation loss=0.68\n",
      "Step 1598/1600: training loss=0.64\n",
      "Step 1597/1600: training loss=0.39\n",
      "Step 1596/1600: training loss=0.30\n",
      "Step 1595/1600: training loss=0.38\n"
     ]
    }
   ],
   "source": [
    "#Re - run this cell until the fine-tuning job is complete\n",
    "fine_tuning_events = client.fine_tuning.jobs.list_events(fine_tuning_job_id='ftjob-k0WCsMZyRBxCgpP1raG8P1z3', limit=10)\n",
    "\n",
    "for event in fine_tuning_events.data:\n",
    "    print(event.message)"
   ]
  },
  {
   "cell_type": "code",
   "execution_count": 112,
   "id": "782096b5",
   "metadata": {},
   "outputs": [
    {
     "data": {
      "text/plain": [
       "FineTuningJob(id='ftjob-k0WCsMZyRBxCgpP1raG8P1z3', created_at=1723994916, error=Error(code=None, message=None, param=None), fine_tuned_model='ft:gpt-3.5-turbo-0125:personal:crunchbase-data:9xczAAsN', finished_at=1723998239, hyperparameters=Hyperparameters(n_epochs=3, batch_size=3, learning_rate_multiplier=2), model='gpt-3.5-turbo-0125', object='fine_tuning.job', organization_id='org-ADSRmNPyEVkr78tS48iT4Xkl', result_files=['file-be1SEpnk0fLU0OeKWhBQawSu'], seed=1746319074, status='succeeded', trained_tokens=227277, training_file='file-8tgZuKIWvuea3SEYLCppQxxB', validation_file='file-9S9Re5NPdF3zNn73GSBzCLNk', estimated_finish=None, integrations=[], user_provided_suffix='crunchbase data')"
      ]
     },
     "execution_count": 112,
     "metadata": {},
     "output_type": "execute_result"
    }
   ],
   "source": [
    "# Retrieve the fine-tuning job, noted the value for fine_tuned_model to interact with model in the next cell\n",
    "client.fine_tuning.jobs.retrieve(\"ftjob-k0WCsMZyRBxCgpP1raG8P1z3\")\n"
   ]
  },
  {
   "cell_type": "markdown",
   "id": "58886380",
   "metadata": {},
   "source": [
    "Fine-tuning with openai took approximately 35 minutes at which point I received an email from openai that fine tuning job was successfully completed. \n",
    "\n",
    "Next we evaluate model fine tuned with Open AI "
   ]
  },
  {
   "cell_type": "code",
   "execution_count": 96,
   "id": "fc778d76",
   "metadata": {},
   "outputs": [
    {
     "data": {
      "text/html": [
       "<div>\n",
       "<style scoped>\n",
       "    .dataframe tbody tr th:only-of-type {\n",
       "        vertical-align: middle;\n",
       "    }\n",
       "\n",
       "    .dataframe tbody tr th {\n",
       "        vertical-align: top;\n",
       "    }\n",
       "\n",
       "    .dataframe thead th {\n",
       "        text-align: right;\n",
       "    }\n",
       "</style>\n",
       "<table border=\"1\" class=\"dataframe\">\n",
       "  <thead>\n",
       "    <tr style=\"text-align: right;\">\n",
       "      <th></th>\n",
       "      <th>step</th>\n",
       "      <th>train_loss</th>\n",
       "      <th>valid_loss</th>\n",
       "      <th>total_steps</th>\n",
       "      <th>train_mean_token_accuracy</th>\n",
       "      <th>valid_mean_token_accuracy</th>\n",
       "      <th>full_valid_loss</th>\n",
       "      <th>full_valid_mean_token_accuracy</th>\n",
       "    </tr>\n",
       "  </thead>\n",
       "  <tbody>\n",
       "    <tr>\n",
       "      <th>0</th>\n",
       "      <td>1600</td>\n",
       "      <td>0.682561</td>\n",
       "      <td>0.792585</td>\n",
       "      <td>1600</td>\n",
       "      <td>0.848101</td>\n",
       "      <td>0.826531</td>\n",
       "      <td>NaN</td>\n",
       "      <td>NaN</td>\n",
       "    </tr>\n",
       "    <tr>\n",
       "      <th>1</th>\n",
       "      <td>1599</td>\n",
       "      <td>0.489184</td>\n",
       "      <td>NaN</td>\n",
       "      <td>1600</td>\n",
       "      <td>0.884058</td>\n",
       "      <td>NaN</td>\n",
       "      <td>0.677292</td>\n",
       "      <td>0.838886</td>\n",
       "    </tr>\n",
       "    <tr>\n",
       "      <th>2</th>\n",
       "      <td>1598</td>\n",
       "      <td>0.642393</td>\n",
       "      <td>NaN</td>\n",
       "      <td>1600</td>\n",
       "      <td>0.858586</td>\n",
       "      <td>NaN</td>\n",
       "      <td>NaN</td>\n",
       "      <td>NaN</td>\n",
       "    </tr>\n",
       "    <tr>\n",
       "      <th>3</th>\n",
       "      <td>1597</td>\n",
       "      <td>0.394121</td>\n",
       "      <td>NaN</td>\n",
       "      <td>1600</td>\n",
       "      <td>0.896226</td>\n",
       "      <td>NaN</td>\n",
       "      <td>NaN</td>\n",
       "      <td>NaN</td>\n",
       "    </tr>\n",
       "    <tr>\n",
       "      <th>4</th>\n",
       "      <td>1596</td>\n",
       "      <td>0.299830</td>\n",
       "      <td>NaN</td>\n",
       "      <td>1600</td>\n",
       "      <td>0.927083</td>\n",
       "      <td>NaN</td>\n",
       "      <td>NaN</td>\n",
       "      <td>NaN</td>\n",
       "    </tr>\n",
       "    <tr>\n",
       "      <th>5</th>\n",
       "      <td>1595</td>\n",
       "      <td>0.375489</td>\n",
       "      <td>NaN</td>\n",
       "      <td>1600</td>\n",
       "      <td>0.910448</td>\n",
       "      <td>NaN</td>\n",
       "      <td>NaN</td>\n",
       "      <td>NaN</td>\n",
       "    </tr>\n",
       "    <tr>\n",
       "      <th>6</th>\n",
       "      <td>1594</td>\n",
       "      <td>0.529038</td>\n",
       "      <td>NaN</td>\n",
       "      <td>1600</td>\n",
       "      <td>0.863636</td>\n",
       "      <td>NaN</td>\n",
       "      <td>NaN</td>\n",
       "      <td>NaN</td>\n",
       "    </tr>\n",
       "    <tr>\n",
       "      <th>7</th>\n",
       "      <td>1593</td>\n",
       "      <td>0.124619</td>\n",
       "      <td>NaN</td>\n",
       "      <td>1600</td>\n",
       "      <td>0.925926</td>\n",
       "      <td>NaN</td>\n",
       "      <td>NaN</td>\n",
       "      <td>NaN</td>\n",
       "    </tr>\n",
       "    <tr>\n",
       "      <th>8</th>\n",
       "      <td>1592</td>\n",
       "      <td>0.179901</td>\n",
       "      <td>NaN</td>\n",
       "      <td>1600</td>\n",
       "      <td>0.960000</td>\n",
       "      <td>NaN</td>\n",
       "      <td>NaN</td>\n",
       "      <td>NaN</td>\n",
       "    </tr>\n",
       "    <tr>\n",
       "      <th>9</th>\n",
       "      <td>1591</td>\n",
       "      <td>0.187091</td>\n",
       "      <td>NaN</td>\n",
       "      <td>1600</td>\n",
       "      <td>0.959184</td>\n",
       "      <td>NaN</td>\n",
       "      <td>NaN</td>\n",
       "      <td>NaN</td>\n",
       "    </tr>\n",
       "    <tr>\n",
       "      <th>10</th>\n",
       "      <td>1590</td>\n",
       "      <td>0.253239</td>\n",
       "      <td>NaN</td>\n",
       "      <td>1600</td>\n",
       "      <td>0.937500</td>\n",
       "      <td>NaN</td>\n",
       "      <td>NaN</td>\n",
       "      <td>NaN</td>\n",
       "    </tr>\n",
       "    <tr>\n",
       "      <th>11</th>\n",
       "      <td>1589</td>\n",
       "      <td>0.802783</td>\n",
       "      <td>NaN</td>\n",
       "      <td>1600</td>\n",
       "      <td>0.783505</td>\n",
       "      <td>NaN</td>\n",
       "      <td>NaN</td>\n",
       "      <td>NaN</td>\n",
       "    </tr>\n",
       "    <tr>\n",
       "      <th>12</th>\n",
       "      <td>1588</td>\n",
       "      <td>0.504379</td>\n",
       "      <td>NaN</td>\n",
       "      <td>1600</td>\n",
       "      <td>0.838235</td>\n",
       "      <td>NaN</td>\n",
       "      <td>NaN</td>\n",
       "      <td>NaN</td>\n",
       "    </tr>\n",
       "    <tr>\n",
       "      <th>13</th>\n",
       "      <td>1587</td>\n",
       "      <td>0.310409</td>\n",
       "      <td>NaN</td>\n",
       "      <td>1600</td>\n",
       "      <td>0.921053</td>\n",
       "      <td>NaN</td>\n",
       "      <td>NaN</td>\n",
       "      <td>NaN</td>\n",
       "    </tr>\n",
       "    <tr>\n",
       "      <th>14</th>\n",
       "      <td>1586</td>\n",
       "      <td>0.393569</td>\n",
       "      <td>NaN</td>\n",
       "      <td>1600</td>\n",
       "      <td>0.927536</td>\n",
       "      <td>NaN</td>\n",
       "      <td>NaN</td>\n",
       "      <td>NaN</td>\n",
       "    </tr>\n",
       "    <tr>\n",
       "      <th>15</th>\n",
       "      <td>1585</td>\n",
       "      <td>0.035068</td>\n",
       "      <td>NaN</td>\n",
       "      <td>1600</td>\n",
       "      <td>0.980392</td>\n",
       "      <td>NaN</td>\n",
       "      <td>NaN</td>\n",
       "      <td>NaN</td>\n",
       "    </tr>\n",
       "  </tbody>\n",
       "</table>\n",
       "</div>"
      ],
      "text/plain": [
       "    step  train_loss  valid_loss  total_steps  train_mean_token_accuracy  \\\n",
       "0   1600    0.682561    0.792585         1600                   0.848101   \n",
       "1   1599    0.489184         NaN         1600                   0.884058   \n",
       "2   1598    0.642393         NaN         1600                   0.858586   \n",
       "3   1597    0.394121         NaN         1600                   0.896226   \n",
       "4   1596    0.299830         NaN         1600                   0.927083   \n",
       "5   1595    0.375489         NaN         1600                   0.910448   \n",
       "6   1594    0.529038         NaN         1600                   0.863636   \n",
       "7   1593    0.124619         NaN         1600                   0.925926   \n",
       "8   1592    0.179901         NaN         1600                   0.960000   \n",
       "9   1591    0.187091         NaN         1600                   0.959184   \n",
       "10  1590    0.253239         NaN         1600                   0.937500   \n",
       "11  1589    0.802783         NaN         1600                   0.783505   \n",
       "12  1588    0.504379         NaN         1600                   0.838235   \n",
       "13  1587    0.310409         NaN         1600                   0.921053   \n",
       "14  1586    0.393569         NaN         1600                   0.927536   \n",
       "15  1585    0.035068         NaN         1600                   0.980392   \n",
       "\n",
       "    valid_mean_token_accuracy  full_valid_loss  full_valid_mean_token_accuracy  \n",
       "0                    0.826531              NaN                             NaN  \n",
       "1                         NaN         0.677292                        0.838886  \n",
       "2                         NaN              NaN                             NaN  \n",
       "3                         NaN              NaN                             NaN  \n",
       "4                         NaN              NaN                             NaN  \n",
       "5                         NaN              NaN                             NaN  \n",
       "6                         NaN              NaN                             NaN  \n",
       "7                         NaN              NaN                             NaN  \n",
       "8                         NaN              NaN                             NaN  \n",
       "9                         NaN              NaN                             NaN  \n",
       "10                        NaN              NaN                             NaN  \n",
       "11                        NaN              NaN                             NaN  \n",
       "12                        NaN              NaN                             NaN  \n",
       "13                        NaN              NaN                             NaN  \n",
       "14                        NaN              NaN                             NaN  \n",
       "15                        NaN              NaN                             NaN  "
      ]
     },
     "execution_count": 96,
     "metadata": {},
     "output_type": "execute_result"
    }
   ],
   "source": [
    "# Get metrics for fine tuning job \n",
    "fine_tuning_events = client.fine_tuning.jobs.list_events(\"ftjob-k0WCsMZyRBxCgpP1raG8P1z3\")\n",
    "# List to store all metrics\n",
    "metrics_list = []\n",
    "\n",
    "# Loop through fine_tuning_events and collect data dictionaries\n",
    "for event in fine_tuning_events.data:\n",
    "    metrics = event.data\n",
    "    \n",
    "    # If metrics is not empty, add it to the list\n",
    "    if metrics:\n",
    "        metrics_list.append(metrics)\n",
    "\n",
    "# Define expected keys\n",
    "all_keys = ['step', 'train_loss', 'valid_loss', 'total_steps', 'train_mean_token_accuracy', 'valid_mean_token_accuracy', 'full_valid_loss']\n",
    "\n",
    "# Ensure all dictionaries have the same keys\n",
    "for metric in metrics_list:\n",
    "    for key in all_keys:\n",
    "        if key not in metric:\n",
    "            metric[key] = None\n",
    "\n",
    "# Create DataFrame from the list of metrics\n",
    "metrics_df = pd.DataFrame(metrics_list)\n",
    "\n",
    "\n",
    "# Display the DataFrame\n",
    "metrics_df\n"
   ]
  },
  {
   "cell_type": "code",
   "execution_count": 111,
   "id": "199b3e81",
   "metadata": {},
   "outputs": [
    {
     "data": {
      "image/png": "[encoded data removed]",
      "text/plain": [
       "<Figure size 1200x800 with 2 Axes>"
      ]
     },
     "metadata": {},
     "output_type": "display_data"
    }
   ],
   "source": [
    "# Ensure plots render in Jupyter\n",
    "%matplotlib inline\n",
    "\n",
    "# Create subplots\n",
    "fig, (ax1, ax2) = plt.subplots(1, 2, figsize=(12, 8))\n",
    "\n",
    "# Plot training loss on the first axis\n",
    "ax1.plot(metrics_df['train_loss'], label='Training loss', alpha=0.5)\n",
    "ax1.set_title('Training Losses')\n",
    "ax1.legend()\n",
    "\n",
    "# Plot training accuracy on the second axis\n",
    "ax2.plot(metrics_df['train_mean_token_accuracy'], label='Train Accuracy', alpha=0.5)\n",
    "ax2.set_title('Train Accuracy')\n",
    "ax2.legend()\n",
    "\n",
    "# Display the plots once at the end\n",
    "plt.tight_layout()\n",
    "plt.show()"
   ]
  },
  {
   "cell_type": "code",
   "execution_count": 125,
   "id": "8aaff907",
   "metadata": {},
   "outputs": [
    {
     "name": "stdout",
     "output_type": "stream",
     "text": [
      "Perplexity: 1.9685397022862101\n"
     ]
    }
   ],
   "source": [
    "#Calculate Results using perplexity\n",
    "full_valid_loss = 0.677292  # value found in metrics_df \n",
    "\n",
    "# Calculate perplexity\n",
    "perplexity_openai = math.exp(full_valid_loss)\n",
    "\n",
    "# Print the result\n",
    "print(\"Perplexity:\", perplexity_openai)"
   ]
  },
  {
   "cell_type": "code",
   "execution_count": 121,
   "id": "ac649027",
   "metadata": {},
   "outputs": [
    {
     "data": {
      "text/plain": [
       "[{'Metric': 'Training Loss CB data Trained T5', 'Value': 1.3792},\n",
       " {'Metric': 'Perplexity CB data Trained T5', 'Value': 3.9718},\n",
       " {'Metric': 'Training Loss CB Fine-Tuned T5', 'Value': 0.7204},\n",
       " {'Metric': 'Perplexity CB Fine-Tuned T5', 'Value': 2.0552},\n",
       " {'Metric': 'Training Loss OpenAI', 'Value': 0.6772924593867465},\n",
       " {'Metric': 'Perplexity OpenAI', 'Value': 1.9685}]"
      ]
     },
     "execution_count": 121,
     "metadata": {},
     "output_type": "execute_result"
    }
   ],
   "source": [
    "# Append loss and perplexity to the results all list \n",
    "results_list_all.append({\"Metric\": \"Training Loss OpenAI\", \"Value\": metrics_df['full_valid_loss'].iloc[1]})\n",
    "results_list_all.append({\"Metric\": \"Perplexity OpenAI\", \"Value\": round(perplexity_openai, 4)})\n",
    "results_list_all"
   ]
  },
  {
   "cell_type": "markdown",
   "id": "938f0588",
   "metadata": {},
   "source": [
    "### Chat with OpenAI API Trained Model"
   ]
  },
  {
   "cell_type": "code",
   "execution_count": 113,
   "id": "014ea3e0",
   "metadata": {},
   "outputs": [],
   "source": [
    "def chat_with_my_model(user_request):\n",
    "    try:\n",
    "        response = client.chat.completions.create(\n",
    "            model = 'ft:gpt-3.5-turbo-0125:personal:crunchbase-data:9xczAAsN',\n",
    "            messages=[\n",
    "                {\"role\": \"user\", \"content\": user_request}\n",
    "            ]\n",
    "        )\n",
    "\n",
    "        chat_response = response.choices[0].message.content\n",
    "\n",
    "        return chat_response\n",
    "\n",
    "    except Exception as e:\n",
    "        return str(e)"
   ]
  },
  {
   "cell_type": "code",
   "execution_count": 114,
   "id": "11107620",
   "metadata": {},
   "outputs": [
    {
     "name": "stdout",
     "output_type": "stream",
     "text": [
      "Citi Bank was founded in 2014 and is based in New York. It focuses on Citi is a financial services company that offers a range of financial products and services, including consumer banking, and credit cards..\n"
     ]
    }
   ],
   "source": [
    "user_message = \"Please provide a summary of Citi Bank.\"\n",
    "\n",
    "response = chat_with_my_model(user_message)\n",
    "\n",
    "print(response)"
   ]
  },
  {
   "cell_type": "code",
   "execution_count": 115,
   "id": "7da71534",
   "metadata": {},
   "outputs": [
    {
     "name": "stdout",
     "output_type": "stream",
     "text": [
      "Talkspace was founded in 2014 and is based in New York. It focuses on Talkspace is a digital behavioral health company..\n"
     ]
    }
   ],
   "source": [
    "user_message = \"Tell me about Talkspace.\"\n",
    "\n",
    "response = chat_with_my_model(user_message)\n",
    "\n",
    "print(response)"
   ]
  },
  {
   "cell_type": "markdown",
   "id": "2e0b6961",
   "metadata": {},
   "source": [
    "# Comparison of All Models "
   ]
  },
  {
   "cell_type": "code",
   "execution_count": 124,
   "id": "853342c1",
   "metadata": {},
   "outputs": [
    {
     "data": {
      "text/html": [
       "<div>\n",
       "<style scoped>\n",
       "    .dataframe tbody tr th:only-of-type {\n",
       "        vertical-align: middle;\n",
       "    }\n",
       "\n",
       "    .dataframe tbody tr th {\n",
       "        vertical-align: top;\n",
       "    }\n",
       "\n",
       "    .dataframe thead th {\n",
       "        text-align: right;\n",
       "    }\n",
       "</style>\n",
       "<table border=\"1\" class=\"dataframe\">\n",
       "  <thead>\n",
       "    <tr style=\"text-align: right;\">\n",
       "      <th></th>\n",
       "      <th>Model Name</th>\n",
       "      <th>Training Loss</th>\n",
       "      <th>Perplexity</th>\n",
       "    </tr>\n",
       "  </thead>\n",
       "  <tbody>\n",
       "    <tr>\n",
       "      <th>0</th>\n",
       "      <td>CB Data Trained T5</td>\n",
       "      <td>1.379200</td>\n",
       "      <td>3.9718</td>\n",
       "    </tr>\n",
       "    <tr>\n",
       "      <th>1</th>\n",
       "      <td>CB Fine-Tuned T5</td>\n",
       "      <td>0.720400</td>\n",
       "      <td>2.0552</td>\n",
       "    </tr>\n",
       "    <tr>\n",
       "      <th>2</th>\n",
       "      <td>CB Fine-Tuned OpenAI</td>\n",
       "      <td>0.677292</td>\n",
       "      <td>1.9685</td>\n",
       "    </tr>\n",
       "  </tbody>\n",
       "</table>\n",
       "</div>"
      ],
      "text/plain": [
       "              Model Name  Training Loss  Perplexity\n",
       "0     CB Data Trained T5       1.379200      3.9718\n",
       "1       CB Fine-Tuned T5       0.720400      2.0552\n",
       "2   CB Fine-Tuned OpenAI       0.677292      1.9685"
      ]
     },
     "execution_count": 124,
     "metadata": {},
     "output_type": "execute_result"
    }
   ],
   "source": [
    "model_names = ['CB Data Trained T5', 'CB Fine-Tuned T5', ' CB Fine-Tuned OpenAI']\n",
    "training_loss = [1.3792, 0.7204, 0.6772924593867465]\n",
    "perplexity = [3.9718, 2.0552, 1.9685]\n",
    "\n",
    "all_metrics_df = pd.DataFrame({\n",
    "    'Model Name': model_names,\n",
    "    'Training Loss': training_loss,\n",
    "    'Perplexity': perplexity\n",
    "})\n",
    "all_metrics_df"
   ]
  },
  {
   "cell_type": "markdown",
   "id": "719ae1da",
   "metadata": {},
   "source": [
    "## Conclusion\n",
    "This project involved training a T5 model on Crunchbase data to build knowledge about startups. Afterward, a prompt-completion dataset was generated from this data and used for fine-tuning the model. A Gradio app was created to interact with the model, but the T5 model only responded correctly to exact prompts. To improve performance, the OpenAI GPT-3.5 model was fine-tuned on the same prompt-completion data, yielding the best results with flexible and accurate responses."
   ]
  },
  {
   "cell_type": "markdown",
   "id": "0d459bd4",
   "metadata": {},
   "source": []
  }
 ],
 "metadata": {
  "kernelspec": {
   "display_name": "ai_dev",
   "language": "python",
   "name": "python3"
  },
  "language_info": {
   "codemirror_mode": {
    "name": "ipython",
    "version": 3
   },
   "file_extension": ".py",
   "mimetype": "text/x-python",
   "name": "python",
   "nbconvert_exporter": "python",
   "pygments_lexer": "ipython3",
   "version": "3.10.13"
  }
 },
 "nbformat": 4,
 "nbformat_minor": 5
}
